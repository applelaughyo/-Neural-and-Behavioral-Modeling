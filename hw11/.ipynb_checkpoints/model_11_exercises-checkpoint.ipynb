{
  "cells": [
    {
      "cell_type": "markdown",
      "metadata": {
        "id": "vg7j_Xk_lciQ"
      },
      "source": [
        "# Neural & Behavioral Modeling - Week 11 (Exercises)\n",
        "by Your Name (Your Email)"
      ]
    },
    {
      "cell_type": "code",
      "execution_count": 14,
      "metadata": {
        "id": "OeYj9aqMlciT"
      },
      "outputs": [],
      "source": [
        "%config IPCompleter.greedy=True \n",
        "%matplotlib inline\n",
        "from matplotlib.pyplot import *\n",
        "from IPython.display import *\n",
        "import numpy as np\n",
        "import random"
      ]
    },
    {
      "cell_type": "code",
      "execution_count": 2,
      "metadata": {
        "colab": {
          "base_uri": "https://localhost:8080/"
        },
        "id": "XduB3s8FlciU",
        "outputId": "bd364bbf-8fb3-4988-91ee-d4ed3803e95f"
      },
      "outputs": [
        {
          "output_type": "stream",
          "name": "stdout",
          "text": [
            "PyTorch version: 1.12.1+cu113\n",
            "Device  0 : Tesla T4\n",
            "Current: Device  0\n"
          ]
        }
      ],
      "source": [
        "# Check GPU status:\n",
        "import torch as t\n",
        "print('PyTorch version:',t.__version__)\n",
        "use_cuda=t.cuda.is_available()\n",
        "if(use_cuda):\n",
        "    for i in range(t.cuda.device_count()):\n",
        "        print('Device ',i,':',t.cuda.get_device_name(i))\n",
        "    print('Current: Device ',t.cuda.current_device())\n",
        "    t.backends.cudnn.benchmark = True \n",
        "    device = t.device(\"cuda\")\n",
        "else:\n",
        "    device = t.device(\"cpu\")\n",
        "    print('No GPU')"
      ]
    },
    {
      "cell_type": "markdown",
      "metadata": {
        "id": "WmzVBWk4lciV"
      },
      "source": [
        "## 1 Fair Performance Evaluation (2 points)\n",
        "We often compare and assess performances of different model architectures/parameters/hyperparameters. Note that the results are differnt even if you re-run exactly the same code block. This is primarily due to a non-fixed random number seed. Please:\n",
        "\n",
        "(1) run the section 1.2 TEN times and report (a) min, (b) max, (c) mean, & (d) standard deviation of the TESTING accuracies. (2 points)\n",
        "\n",
        "(2) try to fix the random number seeds in numpy & pytorch to see if you can obtain the same results every time in the section 1.2. (2 points)"
      ]
    },
    {
      "cell_type": "markdown",
      "metadata": {
        "id": "q4ki42vglciV"
      },
      "source": [
        "### 1.0 CIFAR-10 dataset"
      ]
    },
    {
      "cell_type": "code",
      "execution_count": 4,
      "metadata": {
        "colab": {
          "base_uri": "https://localhost:8080/",
          "height": 84,
          "referenced_widgets": [
            "caa4e0278b66405e8a2d17e87f1d8aa9",
            "4076d565ff1d439fb2ba8c024cf3043b",
            "627275481299411ea72ba4370a38c07b",
            "64e3fbb366604330aee55680720c9642",
            "06e262aad3e04f39841a42eac9d643f8",
            "22578a06ca3a40ac95196ea7ee33f76b",
            "8bd576c1428e4ae8b79da5939008c6f9",
            "e5e1b5cb3aa9494f8ef8b2516faf7219",
            "3a95c49a871a4f84ad6c9c32f4c64bef",
            "b78593883db742098ec91441df100f5c",
            "9b00d781595c41b98f33784990aeb0ec"
          ]
        },
        "id": "Dmyr4xoLlciW",
        "outputId": "2ec3a9b8-31f1-463f-8e8b-42024978cd16"
      },
      "outputs": [
        {
          "output_type": "stream",
          "name": "stdout",
          "text": [
            "Downloading https://www.cs.toronto.edu/~kriz/cifar-10-python.tar.gz to ./cifar-10-python.tar.gz\n"
          ]
        },
        {
          "output_type": "display_data",
          "data": {
            "text/plain": [
              "  0%|          | 0/170498071 [00:00<?, ?it/s]"
            ],
            "application/vnd.jupyter.widget-view+json": {
              "version_major": 2,
              "version_minor": 0,
              "model_id": "caa4e0278b66405e8a2d17e87f1d8aa9"
            }
          },
          "metadata": {}
        },
        {
          "output_type": "stream",
          "name": "stdout",
          "text": [
            "Extracting ./cifar-10-python.tar.gz to .\n"
          ]
        }
      ],
      "source": [
        "# Load the dataset:\n",
        "import torchvision.transforms as transforms\n",
        "from torchvision.datasets import CIFAR10\n",
        "train_set = CIFAR10(root='.', train=True, transform=transforms.ToTensor(),download=True)\n",
        "train_data = t.utils.data.DataLoader(train_set, batch_size=32, shuffle=True)\n",
        "test_set = CIFAR10(root='.', train=False, transform=transforms.ToTensor())\n",
        "test_data = t.utils.data.DataLoader(train_set, batch_size=1000, shuffle=True)\n",
        "classes = ('plane', 'car', 'bird', 'cat', 'deer', 'dog', 'frog', 'horse', 'ship', 'truck')"
      ]
    },
    {
      "cell_type": "markdown",
      "metadata": {
        "id": "cpb-tOmalciW"
      },
      "source": [
        "### 1.1 The model"
      ]
    },
    {
      "cell_type": "code",
      "execution_count": 5,
      "metadata": {
        "id": "ZX6kCWzplciX"
      },
      "outputs": [],
      "source": [
        "# Make the model:\n",
        "import torch.nn as nn\n",
        "import torch.nn.functional as F\n",
        "class Net(nn.Module):\n",
        "    def __init__(self):\n",
        "        super(Net, self).__init__() # = nn.Module.__init__(self)\n",
        "        self.conv1 = nn.Conv2d(3, 6, 5) # in, out, kernel\n",
        "        self.conv2 = nn.Conv2d(6, 16, 5) \n",
        "        self.fc1   = nn.Linear(16*5*5, 120) \n",
        "        self.fc2   = nn.Linear(120, 84)\n",
        "        self.fc3   = nn.Linear(84, 10)\n",
        "    def forward(self, x): # functional expressions\n",
        "        x = F.max_pool2d(F.relu(self.conv1(x)), (2, 2))\n",
        "        x = F.max_pool2d(F.relu(self.conv2(x)), 2) \n",
        "        x = x.view(x.size()[0], -1) \n",
        "        x = F.relu(self.fc1(x))\n",
        "        x = F.relu(self.fc2(x))\n",
        "        x = self.fc3(x)        \n",
        "        return x\n",
        "lenet = Net()\n",
        "lenet = lenet.to(device)\n",
        "loss_fn = t.nn.CrossEntropyLoss()\n",
        "optimizer = t.optim.Adam(lenet.parameters())"
      ]
    },
    {
      "cell_type": "markdown",
      "metadata": {
        "id": "ryHULsdzlciX"
      },
      "source": [
        "### 1.2 Training & Testing"
      ]
    },
    {
      "cell_type": "markdown",
      "source": [
        "## 固定seed前"
      ],
      "metadata": {
        "id": "uun-hC3NJ-XE"
      }
    },
    {
      "cell_type": "code",
      "execution_count": 13,
      "metadata": {
        "colab": {
          "base_uri": "https://localhost:8080/"
        },
        "id": "Wih2LJXflciY",
        "outputId": "b7410cce-e795-4dac-8e08-14bb61381e6d"
      },
      "outputs": [
        {
          "output_type": "stream",
          "name": "stdout",
          "text": [
            "第 0 次:\n",
            "epoch  0 : 0.125\n",
            "epoch  1 : 0.0\n",
            "test : 0.098\n",
            "第 1 次:\n",
            "epoch  0 : 0.0625\n",
            "epoch  1 : 0.125\n",
            "test : 0.097\n",
            "第 2 次:\n",
            "epoch  0 : 0.0625\n",
            "epoch  1 : 0.25\n",
            "test : 0.11\n",
            "第 3 次:\n",
            "epoch  0 : 0.125\n",
            "epoch  1 : 0.0625\n",
            "test : 0.109\n",
            "第 4 次:\n",
            "epoch  0 : 0.0\n",
            "epoch  1 : 0.1875\n",
            "test : 0.114\n",
            "第 5 次:\n",
            "epoch  0 : 0.1875\n",
            "epoch  1 : 0.1875\n",
            "test : 0.105\n",
            "第 6 次:\n",
            "epoch  0 : 0.0\n",
            "epoch  1 : 0.0\n",
            "test : 0.086\n",
            "第 7 次:\n",
            "epoch  0 : 0.0625\n",
            "epoch  1 : 0.0625\n",
            "test : 0.109\n",
            "第 8 次:\n",
            "epoch  0 : 0.125\n",
            "epoch  1 : 0.1875\n",
            "test : 0.105\n",
            "第 9 次:\n",
            "epoch  0 : 0.0625\n",
            "epoch  1 : 0.125\n",
            "test : 0.104\n",
            "min:  0.086 max:  0.114 mean:  0.10370000000000001 std:  0.007720751258783048\n"
          ]
        }
      ],
      "source": [
        "acc = []\n",
        "for i in range(10):\n",
        "  print(\"第\",i,\"次:\")\n",
        "  del lenet\n",
        "  lenet = Net()\n",
        "  lenet = lenet.to(device)\n",
        "  # Training:\n",
        "  for e in range(2):\n",
        "      for i, (X_train, Y_train) in enumerate(train_data, 0):\n",
        "          X_train,Y_train=X_train.to(device),Y_train.to(device)\n",
        "          Y_pred = lenet(X_train)\n",
        "          loss = loss_fn(Y_pred, Y_train)\n",
        "          lenet.zero_grad()\n",
        "          loss.backward()\n",
        "          optimizer.step()   \n",
        "          Y_pred = lenet(X_train)\n",
        "          Y_pred = t.max(Y_pred,1)[1]\n",
        "      print('epoch ',e,':',(Y_pred==Y_train).sum().item()/Y_train.shape[0])\n",
        "      \n",
        "  # Testing on a batch:\n",
        "  dataiter = iter(test_data)\n",
        "  X_test, Y_test = dataiter.next() # returning a batch\n",
        "  X_test,Y_test=X_test.to(device),Y_test.to(device)\n",
        "  with t.no_grad():\n",
        "      Y_pred = lenet(X_test)\n",
        "      Y_pred = t.max(Y_pred,1)[1]\n",
        "      accuracy = (Y_pred==Y_test).sum().item()/Y_test.shape[0]\n",
        "      print('test :',accuracy)\n",
        "      acc.append(accuracy)\n",
        "print(\"min: \", min(acc), \"max: \", max(acc), \"mean: \", np.mean(acc),\"std: \", np.std(acc))"
      ]
    },
    {
      "cell_type": "markdown",
      "metadata": {
        "id": "lwq0DQm5lciY"
      },
      "source": [
        "### 1.3 Your answers"
      ]
    },
    {
      "cell_type": "markdown",
      "source": [
        "## 固定seed後"
      ],
      "metadata": {
        "id": "WKpGr8n4KPuw"
      }
    },
    {
      "cell_type": "code",
      "source": [
        "def setup_seed(seed):\n",
        "     t.manual_seed(seed)\n",
        "     t.cuda.manual_seed_all(seed)\n",
        "     np.random.seed(seed)\n",
        "     random.seed(seed)\n",
        "     t.backends.cudnn.deterministic = True\n",
        "acc = []\n",
        "for i in range(10):\n",
        "  setup_seed(10)\n",
        "  print(\"第\",i,\"次:\")\n",
        "  del lenet\n",
        "  lenet = Net()\n",
        "  lenet = lenet.to(device)\n",
        "  # Training:\n",
        "  for e in range(2):\n",
        "      for i, (X_train, Y_train) in enumerate(train_data, 0):\n",
        "          X_train,Y_train=X_train.to(device),Y_train.to(device)\n",
        "          Y_pred = lenet(X_train)\n",
        "          loss = loss_fn(Y_pred, Y_train)\n",
        "          lenet.zero_grad()\n",
        "          loss.backward()\n",
        "          optimizer.step()   \n",
        "          Y_pred = lenet(X_train)\n",
        "          Y_pred = t.max(Y_pred,1)[1]\n",
        "      print('epoch ',e,':',(Y_pred==Y_train).sum().item()/Y_train.shape[0])\n",
        "      \n",
        "  # Testing on a batch:\n",
        "  dataiter = iter(test_data)\n",
        "  X_test, Y_test = dataiter.next() # returning a batch\n",
        "  X_test,Y_test=X_test.to(device),Y_test.to(device)\n",
        "  with t.no_grad():\n",
        "      Y_pred = lenet(X_test)\n",
        "      Y_pred = t.max(Y_pred,1)[1]\n",
        "      accuracy = (Y_pred==Y_test).sum().item()/Y_test.shape[0]\n",
        "      print('test :',accuracy)\n",
        "      acc.append(accuracy)\n",
        "print(\"min: \", min(acc), \"max: \", max(acc), \"mean: \", np.mean(acc),\"std: \", np.std(acc))"
      ],
      "metadata": {
        "colab": {
          "base_uri": "https://localhost:8080/"
        },
        "id": "HWBgyWIbKOBg",
        "outputId": "e72463fa-5ba3-45c4-ae29-ee969904f3a1"
      },
      "execution_count": 16,
      "outputs": [
        {
          "output_type": "stream",
          "name": "stdout",
          "text": [
            "第 0 次:\n",
            "epoch  0 : 0.0\n",
            "epoch  1 : 0.0\n",
            "test : 0.093\n",
            "第 1 次:\n",
            "epoch  0 : 0.0\n",
            "epoch  1 : 0.0\n",
            "test : 0.093\n",
            "第 2 次:\n",
            "epoch  0 : 0.0\n",
            "epoch  1 : 0.0\n",
            "test : 0.093\n",
            "第 3 次:\n",
            "epoch  0 : 0.0\n",
            "epoch  1 : 0.0\n",
            "test : 0.093\n",
            "第 4 次:\n",
            "epoch  0 : 0.0\n",
            "epoch  1 : 0.0\n",
            "test : 0.093\n",
            "第 5 次:\n",
            "epoch  0 : 0.0\n",
            "epoch  1 : 0.0\n",
            "test : 0.093\n",
            "第 6 次:\n",
            "epoch  0 : 0.0\n",
            "epoch  1 : 0.0\n",
            "test : 0.093\n",
            "第 7 次:\n",
            "epoch  0 : 0.0\n",
            "epoch  1 : 0.0\n",
            "test : 0.093\n",
            "第 8 次:\n",
            "epoch  0 : 0.0\n",
            "epoch  1 : 0.0\n",
            "test : 0.093\n",
            "第 9 次:\n",
            "epoch  0 : 0.0\n",
            "epoch  1 : 0.0\n",
            "test : 0.093\n",
            "min:  0.093 max:  0.093 mean:  0.093 std:  0.0\n"
          ]
        }
      ]
    },
    {
      "cell_type": "markdown",
      "metadata": {
        "id": "PxzxdbK6lciY"
      },
      "source": [
        "## 2 Universal Approximation Theorem (4 points)\n",
        "\n",
        "Please FAIRLY evaluate whether a deep network learns XOR more efficiently than a shallow network with the same number of model parameters. Please discuss why in either case."
      ]
    },
    {
      "cell_type": "markdown",
      "metadata": {
        "id": "0SFHrrHnlciZ"
      },
      "source": [
        "### 2.0 XOR data"
      ]
    },
    {
      "cell_type": "code",
      "execution_count": 17,
      "metadata": {
        "colab": {
          "base_uri": "https://localhost:8080/",
          "height": 265
        },
        "id": "RLAZDOXwlciZ",
        "outputId": "dcb7b7db-78d4-438c-d9e0-801576f82d36"
      },
      "outputs": [
        {
          "output_type": "display_data",
          "data": {
            "text/plain": [
              "<Figure size 432x288 with 1 Axes>"
            ],
            "image/png": "[encoded data removed]"
          },
          "metadata": {
            "needs_background": "light"
          }
        }
      ],
      "source": [
        "N=1000 # samples per cluster\n",
        "XY=t.tensor([[5,5],[5,10],[10,5],[10,10]],dtype=t.float32) # 4 cluster centers\n",
        "Z=t.tensor([0,1,1,0]) # category labels\n",
        "t.cat([t.randn(2,1)+XY[0,0],t.randn(2,1)+XY[0,1]],1)\n",
        "xy,z=t.zeros(4*N,2),t.zeros(4*N,dtype=t.int64)\n",
        "for i in range(4):\n",
        "    xy[i*N:(i+1)*N,]=t.rand(N,2)+XY[i,]\n",
        "    z[i*N:(i+1)*N]=Z[i]\n",
        "xy_np=xy.numpy()\n",
        "z_np=z.numpy().astype(int)\n",
        "cmap=np.array([[1,0,0],[0,1,0]])\n",
        "scatter(xy_np[:,0],xy_np[:,1],color=cmap[z_np]);"
      ]
    },
    {
      "cell_type": "markdown",
      "metadata": {
        "id": "d822nEVMlciZ"
      },
      "source": [
        "#### 2.1 A shallow net with one hidden layer"
      ]
    },
    {
      "cell_type": "code",
      "execution_count": 26,
      "metadata": {
        "colab": {
          "base_uri": "https://localhost:8080/"
        },
        "id": "ZHOXoXxXlciZ",
        "outputId": "a275d217-8da0-430b-bc0b-91075946d28c"
      },
      "outputs": [
        {
          "output_type": "stream",
          "name": "stdout",
          "text": [
            "epoch  0 : 0.5\n",
            "epoch  1 : 0.52475\n",
            "epoch  2 : 0.62425\n",
            "epoch  3 : 0.665\n",
            "epoch  4 : 0.6925\n",
            "epoch  5 : 0.7145\n",
            "epoch  6 : 0.73725\n",
            "epoch  7 : 0.74325\n",
            "epoch  8 : 0.746\n",
            "epoch  9 : 0.749\n",
            "epoch  10 : 0.75\n",
            "epoch  11 : 0.75\n",
            "epoch  12 : 0.75\n",
            "epoch  13 : 0.75\n",
            "epoch  14 : 0.75\n",
            "epoch  15 : 0.75\n",
            "epoch  16 : 0.75\n",
            "epoch  17 : 0.75\n",
            "epoch  18 : 0.75\n",
            "epoch  19 : 0.75\n",
            "epoch  20 : 0.75\n",
            "epoch  21 : 0.75\n",
            "epoch  22 : 0.75\n",
            "epoch  23 : 0.75\n",
            "epoch  24 : 0.75\n",
            "epoch  25 : 0.75\n",
            "epoch  26 : 0.75\n",
            "epoch  27 : 0.75\n",
            "epoch  28 : 0.75\n",
            "epoch  29 : 0.75\n",
            "epoch  30 : 0.75\n",
            "epoch  31 : 0.75\n",
            "epoch  32 : 0.75\n",
            "epoch  33 : 0.75\n",
            "epoch  34 : 0.75\n",
            "epoch  35 : 0.75\n",
            "epoch  36 : 0.75\n",
            "epoch  37 : 0.75\n",
            "epoch  38 : 0.75\n",
            "epoch  39 : 0.75\n",
            "epoch  40 : 0.75\n",
            "epoch  41 : 0.75\n",
            "epoch  42 : 0.75\n",
            "epoch  43 : 0.75\n",
            "epoch  44 : 0.75\n",
            "epoch  45 : 0.75\n",
            "epoch  46 : 0.75\n",
            "epoch  47 : 0.75\n",
            "epoch  48 : 0.75\n",
            "epoch  49 : 0.75\n",
            "epoch  50 : 0.75\n",
            "epoch  51 : 0.75\n",
            "epoch  52 : 0.75\n",
            "epoch  53 : 0.75\n",
            "epoch  54 : 0.75\n",
            "epoch  55 : 0.75\n",
            "epoch  56 : 0.75\n",
            "epoch  57 : 0.75\n",
            "epoch  58 : 0.75\n",
            "epoch  59 : 0.75\n",
            "epoch  60 : 0.75\n",
            "epoch  61 : 0.75\n",
            "epoch  62 : 0.75\n",
            "epoch  63 : 0.75\n",
            "epoch  64 : 0.75\n",
            "epoch  65 : 0.75\n",
            "epoch  66 : 0.75\n",
            "epoch  67 : 0.75\n",
            "epoch  68 : 0.75\n",
            "epoch  69 : 0.75\n",
            "epoch  70 : 0.75\n",
            "epoch  71 : 0.75275\n",
            "epoch  72 : 0.77175\n",
            "epoch  73 : 0.804\n",
            "epoch  74 : 0.83225\n",
            "epoch  75 : 0.86175\n",
            "epoch  76 : 0.882\n",
            "epoch  77 : 0.89825\n",
            "epoch  78 : 0.912\n",
            "epoch  79 : 0.92425\n",
            "epoch  80 : 0.93225\n",
            "epoch  81 : 0.938\n",
            "epoch  82 : 0.943\n",
            "epoch  83 : 0.949\n",
            "epoch  84 : 0.9545\n",
            "epoch  85 : 0.95825\n",
            "epoch  86 : 0.962\n",
            "epoch  87 : 0.96675\n",
            "epoch  88 : 0.9715\n",
            "epoch  89 : 0.9745\n",
            "epoch  90 : 0.9775\n",
            "epoch  91 : 0.98\n",
            "epoch  92 : 0.9835\n",
            "epoch  93 : 0.98675\n",
            "epoch  94 : 0.98825\n",
            "epoch  95 : 0.99125\n",
            "epoch  96 : 0.9935\n",
            "epoch  97 : 0.994\n",
            "epoch  98 : 0.99525\n",
            "epoch  99 : 0.99675\n"
          ]
        }
      ],
      "source": [
        "# Number of free parameters: 2*H+H*2=48\n",
        "setup_seed(7)\n",
        "H=12 # number of hidden units\n",
        "model = t.nn.Sequential(\n",
        "    t.nn.Linear(2, H, bias=False),\n",
        "    t.nn.BatchNorm1d(H),\n",
        "    t.nn.ReLU(),\n",
        "    t.nn.Linear(H, 2, bias=False),\n",
        "    t.nn.Softmax(dim=1)\n",
        ")\n",
        "loss_fn = t.nn.CrossEntropyLoss()\n",
        "optimizer = t.optim.Adam(model.parameters())\n",
        "\n",
        "for i in range(100):\n",
        "    z_pred = model(xy)\n",
        "    loss = loss_fn(z_pred,z)\n",
        "    model.zero_grad()\n",
        "    loss.backward()\n",
        "    optimizer.step()\n",
        "    z_pred = model(xy) \n",
        "    z_pred = t.max(z_pred,1)[1]\n",
        "    print('epoch ',i,':',(z_pred==z).sum().item()/xy.shape[0])"
      ]
    },
    {
      "cell_type": "markdown",
      "metadata": {
        "id": "TT8cuqgDlcia"
      },
      "source": [
        "#### 2.2 A \"deep\" net with three hidden layers"
      ]
    },
    {
      "cell_type": "code",
      "execution_count": 25,
      "metadata": {
        "colab": {
          "base_uri": "https://localhost:8080/"
        },
        "id": "mVMQ1KAElcia",
        "outputId": "cf6a5d87-dfb7-4893-8274-2b2ab334e592"
      },
      "outputs": [
        {
          "output_type": "stream",
          "name": "stdout",
          "text": [
            "epoch  0 : 0.4075\n",
            "epoch  1 : 0.4195\n",
            "epoch  2 : 0.429\n",
            "epoch  3 : 0.44025\n",
            "epoch  4 : 0.44575\n",
            "epoch  5 : 0.45025\n",
            "epoch  6 : 0.455\n",
            "epoch  7 : 0.458\n",
            "epoch  8 : 0.461\n",
            "epoch  9 : 0.46375\n",
            "epoch  10 : 0.46375\n",
            "epoch  11 : 0.464\n",
            "epoch  12 : 0.46375\n",
            "epoch  13 : 0.464\n",
            "epoch  14 : 0.46475\n",
            "epoch  15 : 0.467\n",
            "epoch  16 : 0.47075\n",
            "epoch  17 : 0.4725\n",
            "epoch  18 : 0.47475\n",
            "epoch  19 : 0.477\n",
            "epoch  20 : 0.4785\n",
            "epoch  21 : 0.48225\n",
            "epoch  22 : 0.48375\n",
            "epoch  23 : 0.485\n",
            "epoch  24 : 0.4855\n",
            "epoch  25 : 0.4855\n",
            "epoch  26 : 0.4855\n",
            "epoch  27 : 0.48575\n",
            "epoch  28 : 0.48575\n",
            "epoch  29 : 0.48575\n",
            "epoch  30 : 0.486\n",
            "epoch  31 : 0.486\n",
            "epoch  32 : 0.486\n",
            "epoch  33 : 0.4865\n",
            "epoch  34 : 0.488\n",
            "epoch  35 : 0.48925\n",
            "epoch  36 : 0.4915\n",
            "epoch  37 : 0.494\n",
            "epoch  38 : 0.4955\n",
            "epoch  39 : 0.49725\n",
            "epoch  40 : 0.4985\n",
            "epoch  41 : 0.501\n",
            "epoch  42 : 0.5025\n",
            "epoch  43 : 0.50425\n",
            "epoch  44 : 0.5065\n",
            "epoch  45 : 0.509\n",
            "epoch  46 : 0.51125\n",
            "epoch  47 : 0.51425\n",
            "epoch  48 : 0.5165\n",
            "epoch  49 : 0.519\n",
            "epoch  50 : 0.5245\n",
            "epoch  51 : 0.5275\n",
            "epoch  52 : 0.53325\n",
            "epoch  53 : 0.54075\n",
            "epoch  54 : 0.55175\n",
            "epoch  55 : 0.55975\n",
            "epoch  56 : 0.573\n",
            "epoch  57 : 0.58925\n",
            "epoch  58 : 0.6045\n",
            "epoch  59 : 0.62125\n",
            "epoch  60 : 0.6355\n",
            "epoch  61 : 0.65\n",
            "epoch  62 : 0.6625\n",
            "epoch  63 : 0.676\n",
            "epoch  64 : 0.69075\n",
            "epoch  65 : 0.70375\n",
            "epoch  66 : 0.7175\n",
            "epoch  67 : 0.733\n",
            "epoch  68 : 0.7475\n",
            "epoch  69 : 0.75725\n",
            "epoch  70 : 0.77225\n",
            "epoch  71 : 0.7855\n",
            "epoch  72 : 0.80075\n",
            "epoch  73 : 0.81425\n",
            "epoch  74 : 0.82625\n",
            "epoch  75 : 0.836\n",
            "epoch  76 : 0.84925\n",
            "epoch  77 : 0.862\n",
            "epoch  78 : 0.872\n",
            "epoch  79 : 0.883\n",
            "epoch  80 : 0.8895\n",
            "epoch  81 : 0.895\n",
            "epoch  82 : 0.899\n",
            "epoch  83 : 0.90375\n",
            "epoch  84 : 0.9085\n",
            "epoch  85 : 0.91475\n",
            "epoch  86 : 0.92075\n",
            "epoch  87 : 0.925\n",
            "epoch  88 : 0.9305\n",
            "epoch  89 : 0.93475\n",
            "epoch  90 : 0.94\n",
            "epoch  91 : 0.9445\n",
            "epoch  92 : 0.947\n",
            "epoch  93 : 0.94975\n",
            "epoch  94 : 0.95425\n",
            "epoch  95 : 0.9565\n",
            "epoch  96 : 0.96175\n",
            "epoch  97 : 0.96675\n",
            "epoch  98 : 0.97025\n",
            "epoch  99 : 0.97225\n"
          ]
        }
      ],
      "source": [
        "# Number of free parameters: 2*H+H*H+H*H+H*2=48\n",
        "setup_seed(7)\n",
        "H=4 # number of hidden units\n",
        "model = t.nn.Sequential(\n",
        "    t.nn.Linear(2, H, bias=False),\n",
        "    t.nn.BatchNorm1d(H),\n",
        "    t.nn.ReLU(),\n",
        "    t.nn.Linear(H, H,bias=False),\n",
        "    t.nn.BatchNorm1d(H),\n",
        "    t.nn.ReLU(),\n",
        "    t.nn.Linear(H, H, bias=False),\n",
        "    t.nn.BatchNorm1d(H),\n",
        "    t.nn.ReLU(),\n",
        "    t.nn.Linear(H, 2, bias=False),\n",
        "    t.nn.Softmax(dim=1)\n",
        ")\n",
        "loss_fn = t.nn.CrossEntropyLoss()\n",
        "optimizer = t.optim.Adam(model.parameters())\n",
        "\n",
        "for i in range(100):\n",
        "    z_pred = model(xy)\n",
        "    loss = loss_fn(z_pred,z)\n",
        "    model.zero_grad()\n",
        "    loss.backward()\n",
        "    optimizer.step()\n",
        "    z_pred = model(xy) \n",
        "    z_pred = t.max(z_pred,1)[1]\n",
        "    print('epoch ',i,':',(z_pred==z).sum().item()/xy.shape[0])"
      ]
    },
    {
      "cell_type": "markdown",
      "metadata": {
        "id": "yDOnOAUIlcia"
      },
      "source": [
        "### 2.3 Your answers"
      ]
    },
    {
      "cell_type": "markdown",
      "metadata": {
        "id": "Aj5c3m3klcia"
      },
      "source": [
        "shallow net 一開始學習比較快,第一個epoch就可以達到0.75的正確率，且在第78個epoch正確率就已經超過0.9\n",
        "\n",
        "而deep net一開始正確率只有0.4，到了第69個epoch才達到0.75，要到第83個epoch正確率才來到0.9\n",
        "\n",
        "這是因為XOR分類是一個很簡單的分類不需要太多神經元就能有很好的預測，shallow模型要調的參數較少，很快就能夠調出不錯的模型，而deep因為要調的參數很多需要花比較多次，才知道應該調整哪個參數對結果才有顯著幫助，如果有利用resnet的方法使模型跳過一些不需要的神經元，將能使deep net的效率變好。"
      ]
    },
    {
      "cell_type": "code",
      "source": [],
      "metadata": {
        "id": "pRfj4QD_QfXi"
      },
      "execution_count": null,
      "outputs": []
    }
  ],
  "metadata": {
    "kernelspec": {
      "display_name": "Python 3",
      "language": "python",
      "name": "python3"
    },
    "language_info": {
      "codemirror_mode": {
        "name": "ipython",
        "version": 3
      },
      "file_extension": ".py",
      "mimetype": "text/x-python",
      "name": "python",
      "nbconvert_exporter": "python",
      "pygments_lexer": "ipython3",
      "version": "3.8.8"
    },
    "colab": {
      "provenance": []
    },
    "accelerator": "GPU",
    "gpuClass": "standard",
    "widgets": {
      "application/vnd.jupyter.widget-state+json": {
        "caa4e0278b66405e8a2d17e87f1d8aa9": {
          "model_module": "@jupyter-widgets/controls",
          "model_name": "HBoxModel",
          "model_module_version": "1.5.0",
          "state": {
            "_dom_classes": [],
            "_model_module": "@jupyter-widgets/controls",
            "_model_module_version": "1.5.0",
            "_model_name": "HBoxModel",
            "_view_count": null,
            "_view_module": "@jupyter-widgets/controls",
            "_view_module_version": "1.5.0",
            "_view_name": "HBoxView",
            "box_style": "",
            "children": [
              "IPY_MODEL_4076d565ff1d439fb2ba8c024cf3043b",
              "IPY_MODEL_627275481299411ea72ba4370a38c07b",
              "IPY_MODEL_64e3fbb366604330aee55680720c9642"
            ],
            "layout": "IPY_MODEL_06e262aad3e04f39841a42eac9d643f8"
          }
        },
        "4076d565ff1d439fb2ba8c024cf3043b": {
          "model_module": "@jupyter-widgets/controls",
          "model_name": "HTMLModel",
          "model_module_version": "1.5.0",
          "state": {
            "_dom_classes": [],
            "_model_module": "@jupyter-widgets/controls",
            "_model_module_version": "1.5.0",
            "_model_name": "HTMLModel",
            "_view_count": null,
            "_view_module": "@jupyter-widgets/controls",
            "_view_module_version": "1.5.0",
            "_view_name": "HTMLView",
            "description": "",
            "description_tooltip": null,
            "layout": "IPY_MODEL_22578a06ca3a40ac95196ea7ee33f76b",
            "placeholder": "​",
            "style": "IPY_MODEL_8bd576c1428e4ae8b79da5939008c6f9",
            "value": "100%"
          }
        },
        "627275481299411ea72ba4370a38c07b": {
          "model_module": "@jupyter-widgets/controls",
          "model_name": "FloatProgressModel",
          "model_module_version": "1.5.0",
          "state": {
            "_dom_classes": [],
            "_model_module": "@jupyter-widgets/controls",
            "_model_module_version": "1.5.0",
            "_model_name": "FloatProgressModel",
            "_view_count": null,
            "_view_module": "@jupyter-widgets/controls",
            "_view_module_version": "1.5.0",
            "_view_name": "ProgressView",
            "bar_style": "success",
            "description": "",
            "description_tooltip": null,
            "layout": "IPY_MODEL_e5e1b5cb3aa9494f8ef8b2516faf7219",
            "max": 170498071,
            "min": 0,
            "orientation": "horizontal",
            "style": "IPY_MODEL_3a95c49a871a4f84ad6c9c32f4c64bef",
            "value": 170498071
          }
        },
        "64e3fbb366604330aee55680720c9642": {
          "model_module": "@jupyter-widgets/controls",
          "model_name": "HTMLModel",
          "model_module_version": "1.5.0",
          "state": {
            "_dom_classes": [],
            "_model_module": "@jupyter-widgets/controls",
            "_model_module_version": "1.5.0",
            "_model_name": "HTMLModel",
            "_view_count": null,
            "_view_module": "@jupyter-widgets/controls",
            "_view_module_version": "1.5.0",
            "_view_name": "HTMLView",
            "description": "",
            "description_tooltip": null,
            "layout": "IPY_MODEL_b78593883db742098ec91441df100f5c",
            "placeholder": "​",
            "style": "IPY_MODEL_9b00d781595c41b98f33784990aeb0ec",
            "value": " 170498071/170498071 [00:13&lt;00:00, 14476157.08it/s]"
          }
        },
        "06e262aad3e04f39841a42eac9d643f8": {
          "model_module": "@jupyter-widgets/base",
          "model_name": "LayoutModel",
          "model_module_version": "1.2.0",
          "state": {
            "_model_module": "@jupyter-widgets/base",
            "_model_module_version": "1.2.0",
            "_model_name": "LayoutModel",
            "_view_count": null,
            "_view_module": "@jupyter-widgets/base",
            "_view_module_version": "1.2.0",
            "_view_name": "LayoutView",
            "align_content": null,
            "align_items": null,
            "align_self": null,
            "border": null,
            "bottom": null,
            "display": null,
            "flex": null,
            "flex_flow": null,
            "grid_area": null,
            "grid_auto_columns": null,
            "grid_auto_flow": null,
            "grid_auto_rows": null,
            "grid_column": null,
            "grid_gap": null,
            "grid_row": null,
            "grid_template_areas": null,
            "grid_template_columns": null,
            "grid_template_rows": null,
            "height": null,
            "justify_content": null,
            "justify_items": null,
            "left": null,
            "margin": null,
            "max_height": null,
            "max_width": null,
            "min_height": null,
            "min_width": null,
            "object_fit": null,
            "object_position": null,
            "order": null,
            "overflow": null,
            "overflow_x": null,
            "overflow_y": null,
            "padding": null,
            "right": null,
            "top": null,
            "visibility": null,
            "width": null
          }
        },
        "22578a06ca3a40ac95196ea7ee33f76b": {
          "model_module": "@jupyter-widgets/base",
          "model_name": "LayoutModel",
          "model_module_version": "1.2.0",
          "state": {
            "_model_module": "@jupyter-widgets/base",
            "_model_module_version": "1.2.0",
            "_model_name": "LayoutModel",
            "_view_count": null,
            "_view_module": "@jupyter-widgets/base",
            "_view_module_version": "1.2.0",
            "_view_name": "LayoutView",
            "align_content": null,
            "align_items": null,
            "align_self": null,
            "border": null,
            "bottom": null,
            "display": null,
            "flex": null,
            "flex_flow": null,
            "grid_area": null,
            "grid_auto_columns": null,
            "grid_auto_flow": null,
            "grid_auto_rows": null,
            "grid_column": null,
            "grid_gap": null,
            "grid_row": null,
            "grid_template_areas": null,
            "grid_template_columns": null,
            "grid_template_rows": null,
            "height": null,
            "justify_content": null,
            "justify_items": null,
            "left": null,
            "margin": null,
            "max_height": null,
            "max_width": null,
            "min_height": null,
            "min_width": null,
            "object_fit": null,
            "object_position": null,
            "order": null,
            "overflow": null,
            "overflow_x": null,
            "overflow_y": null,
            "padding": null,
            "right": null,
            "top": null,
            "visibility": null,
            "width": null
          }
        },
        "8bd576c1428e4ae8b79da5939008c6f9": {
          "model_module": "@jupyter-widgets/controls",
          "model_name": "DescriptionStyleModel",
          "model_module_version": "1.5.0",
          "state": {
            "_model_module": "@jupyter-widgets/controls",
            "_model_module_version": "1.5.0",
            "_model_name": "DescriptionStyleModel",
            "_view_count": null,
            "_view_module": "@jupyter-widgets/base",
            "_view_module_version": "1.2.0",
            "_view_name": "StyleView",
            "description_width": ""
          }
        },
        "e5e1b5cb3aa9494f8ef8b2516faf7219": {
          "model_module": "@jupyter-widgets/base",
          "model_name": "LayoutModel",
          "model_module_version": "1.2.0",
          "state": {
            "_model_module": "@jupyter-widgets/base",
            "_model_module_version": "1.2.0",
            "_model_name": "LayoutModel",
            "_view_count": null,
            "_view_module": "@jupyter-widgets/base",
            "_view_module_version": "1.2.0",
            "_view_name": "LayoutView",
            "align_content": null,
            "align_items": null,
            "align_self": null,
            "border": null,
            "bottom": null,
            "display": null,
            "flex": null,
            "flex_flow": null,
            "grid_area": null,
            "grid_auto_columns": null,
            "grid_auto_flow": null,
            "grid_auto_rows": null,
            "grid_column": null,
            "grid_gap": null,
            "grid_row": null,
            "grid_template_areas": null,
            "grid_template_columns": null,
            "grid_template_rows": null,
            "height": null,
            "justify_content": null,
            "justify_items": null,
            "left": null,
            "margin": null,
            "max_height": null,
            "max_width": null,
            "min_height": null,
            "min_width": null,
            "object_fit": null,
            "object_position": null,
            "order": null,
            "overflow": null,
            "overflow_x": null,
            "overflow_y": null,
            "padding": null,
            "right": null,
            "top": null,
            "visibility": null,
            "width": null
          }
        },
        "3a95c49a871a4f84ad6c9c32f4c64bef": {
          "model_module": "@jupyter-widgets/controls",
          "model_name": "ProgressStyleModel",
          "model_module_version": "1.5.0",
          "state": {
            "_model_module": "@jupyter-widgets/controls",
            "_model_module_version": "1.5.0",
            "_model_name": "ProgressStyleModel",
            "_view_count": null,
            "_view_module": "@jupyter-widgets/base",
            "_view_module_version": "1.2.0",
            "_view_name": "StyleView",
            "bar_color": null,
            "description_width": ""
          }
        },
        "b78593883db742098ec91441df100f5c": {
          "model_module": "@jupyter-widgets/base",
          "model_name": "LayoutModel",
          "model_module_version": "1.2.0",
          "state": {
            "_model_module": "@jupyter-widgets/base",
            "_model_module_version": "1.2.0",
            "_model_name": "LayoutModel",
            "_view_count": null,
            "_view_module": "@jupyter-widgets/base",
            "_view_module_version": "1.2.0",
            "_view_name": "LayoutView",
            "align_content": null,
            "align_items": null,
            "align_self": null,
            "border": null,
            "bottom": null,
            "display": null,
            "flex": null,
            "flex_flow": null,
            "grid_area": null,
            "grid_auto_columns": null,
            "grid_auto_flow": null,
            "grid_auto_rows": null,
            "grid_column": null,
            "grid_gap": null,
            "grid_row": null,
            "grid_template_areas": null,
            "grid_template_columns": null,
            "grid_template_rows": null,
            "height": null,
            "justify_content": null,
            "justify_items": null,
            "left": null,
            "margin": null,
            "max_height": null,
            "max_width": null,
            "min_height": null,
            "min_width": null,
            "object_fit": null,
            "object_position": null,
            "order": null,
            "overflow": null,
            "overflow_x": null,
            "overflow_y": null,
            "padding": null,
            "right": null,
            "top": null,
            "visibility": null,
            "width": null
          }
        },
        "9b00d781595c41b98f33784990aeb0ec": {
          "model_module": "@jupyter-widgets/controls",
          "model_name": "DescriptionStyleModel",
          "model_module_version": "1.5.0",
          "state": {
            "_model_module": "@jupyter-widgets/controls",
            "_model_module_version": "1.5.0",
            "_model_name": "DescriptionStyleModel",
            "_view_count": null,
            "_view_module": "@jupyter-widgets/base",
            "_view_module_version": "1.2.0",
            "_view_name": "StyleView",
            "description_width": ""
          }
        }
      }
    }
  },
  "nbformat": 4,
  "nbformat_minor": 0
}