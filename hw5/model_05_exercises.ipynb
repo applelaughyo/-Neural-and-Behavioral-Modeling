{
 "cells": [
  {
   "cell_type": "markdown",
   "metadata": {},
   "source": [
    "# Neural & Behavioral Modeling - Week 5 (Exercises)\n",
    "by 張天瑋 b09705049@ntu.edu.tw"
   ]
  },
  {
   "cell_type": "code",
   "execution_count": 17,
   "metadata": {
    "tags": []
   },
   "outputs": [],
   "source": [
    "%config IPCompleter.greedy=True \n",
    "%matplotlib inline\n",
    "from numpy import *\n",
    "from matplotlib.pyplot import *\n",
    "from IPython.display import *\n",
    "from scipy import stats"
   ]
  },
  {
   "cell_type": "markdown",
   "metadata": {
    "tags": []
   },
   "source": [
    "## 1 Drifit Diffusion Model (4+4 points)\n",
    "\n",
    "Use whatever analytical methods to check if Tren's super EZ implementation(s) of the drift diffusion model produce exGaussian data, especially the exponential long tail. Remember to play around with different model parameters to see how they affect simulation results.\n",
    "\n",
    "Hints:\n",
    "\n",
    "[1] For parameter estimation of the ex-Gaussian distribution, you can use scipy.stats.exponnorm.fit().\n",
    "\n",
    "[2a] You can compare two distributions by Q-Q plots or the Kolmogorov–Smirnov test\n",
    "\n",
    "[2b] Alternatively, you can compare AIC/BIC to answer whether Exponential, Gaussian, or ex-Gaussian best fits Tren's data.\n",
    "\n",
    "<font color=\"red\">Please carry out the same analysis for both types of diffusion (4 points each)!</font>"
   ]
  },
  {
   "cell_type": "code",
   "execution_count": 32,
   "metadata": {},
   "outputs": [
    {
     "data": {
      "image/png": "[encoded data removed]",
      "text/plain": [
       "<Figure size 432x288 with 2 Axes>"
      ]
     },
     "metadata": {
      "needs_background": "light"
     },
     "output_type": "display_data"
    }
   ],
   "source": [
    "# Tren's implementation\n",
    "\n",
    "from numpy import *\n",
    "\n",
    "mu,sigma=0.2,2 # Diffusion type1\n",
    "p=0.4 # Diffusion type2\n",
    "Yend=20 # Threshold for response\n",
    "Ntrial=1000\n",
    "\n",
    "RTs=zeros(Ntrial)\n",
    "for i in range(Ntrial):\n",
    "    Y=0 # initial drift position\n",
    "    Ys=[] # drift history\n",
    "    RT=0 # Reset watch\n",
    "    while(Y<Yend):\n",
    "        dY=mu+random.normal(mu,sigma); # type1\n",
    "        #dY=float((random.rand(1)-p)>0); # type2\n",
    "        Y=Y+dY\n",
    "        Ys.append(Y); # Diffusion history in each trial\n",
    "        RT=RT+1 # clock is running\n",
    "    RTs[i]=RT;\n",
    "subplot(1,2,1);plot(Ys) # plot only the last trial to see the diffusion process\n",
    "subplot(1,2,2);hist(RTs);"
   ]
  },
  {
   "cell_type": "code",
   "execution_count": 33,
   "metadata": {},
   "outputs": [
    {
     "name": "stdout",
     "output_type": "stream",
     "text": [
      "KstestResult(statistic=0.03934435573969769, pvalue=0.08807994179531764)\n",
      "KstestResult(statistic=0.1342154431280689, pvalue=3.594577166783402e-16)\n",
      "KstestResult(statistic=0.14821131438203505, pvalue=1.2244239714760925e-19)\n"
     ]
    }
   ],
   "source": [
    "# Diffusion type1\n",
    "print(stats.kstest(RTs,stats.exponnorm.cdf , args=stats.exponnorm.fit(RTs)))\n",
    "print(stats.kstest(RTs,stats.expon.cdf , args=stats.expon.fit(RTs)))\n",
    "print(stats.kstest(RTs,stats.norm.cdf , args=stats.norm.fit(RTs)))"
   ]
  },
  {
   "cell_type": "code",
   "execution_count": 34,
   "metadata": {},
   "outputs": [
    {
     "data": {
      "image/png": "[encoded data removed]",
      "text/plain": [
       "<Figure size 432x288 with 2 Axes>"
      ]
     },
     "metadata": {
      "needs_background": "light"
     },
     "output_type": "display_data"
    }
   ],
   "source": [
    "# Tren's implementation\n",
    "\n",
    "from numpy import *\n",
    "\n",
    "mu,sigma=0.2,2 # Diffusion type1\n",
    "p=0.4 # Diffusion type2\n",
    "Yend=20 # Threshold for response\n",
    "Ntrial=1000\n",
    "\n",
    "RTs=zeros(Ntrial)\n",
    "for i in range(Ntrial):\n",
    "    Y=0 # initial drift position\n",
    "    Ys=[] # drift history\n",
    "    RT=0 # Reset watch\n",
    "    while(Y<Yend):\n",
    "        # dY=mu+random.normal(mu,sigma); # type1\n",
    "        dY=float((random.rand(1)-p)>0); # type2\n",
    "        Y=Y+dY\n",
    "        Ys.append(Y); # Diffusion history in each trial\n",
    "        RT=RT+1 # clock is running\n",
    "    RTs[i]=RT;\n",
    "subplot(1,2,1);plot(Ys) # plot only the last trial to see the diffusion process\n",
    "subplot(1,2,2);hist(RTs);"
   ]
  },
  {
   "cell_type": "code",
   "execution_count": 35,
   "metadata": {},
   "outputs": [
    {
     "name": "stdout",
     "output_type": "stream",
     "text": [
      "KstestResult(statistic=0.06218544043038332, pvalue=0.0008356075669645766)\n",
      "KstestResult(statistic=0.3670484585613674, pvalue=2.607889006874528e-121)\n",
      "KstestResult(statistic=0.09251367513505082, pvalue=6.723086844117076e-08)\n"
     ]
    }
   ],
   "source": [
    "# Diffusion type1\n",
    "print(stats.kstest(RTs,stats.exponnorm.cdf , args=stats.exponnorm.fit(RTs)))\n",
    "print(stats.kstest(RTs,stats.expon.cdf , args=stats.expon.fit(RTs)))\n",
    "print(stats.kstest(RTs,stats.norm.cdf , args=stats.norm.fit(RTs)))"
   ]
  },
  {
   "cell_type": "markdown",
   "metadata": {},
   "source": [
    "## 2 Replicate exisiting findings/models (4+4 points)\n",
    "\n",
    "Based on your personal interest, please choose and replicate ONE of the following studies. You can replicate 2 core figures/tables <font color=\"red\">(4points each)</font> instead of everything in the paper.\n",
    "\n",
    "### 2.1 Embodied Cognition\n",
    "\n",
    "2.1.1 Thelen, E., Schöner, G., Scheier, C., & Smith, L. B. (2001). The dynamics of embodiment: A field theory of infant perseverative reaching. Behavioral and Brain Sciences, 24(1), 1-86.\n",
    "\n",
    "\n",
    "### 2.2 Instructed Learning\n",
    "\n",
    "2.2.1 Biele, G., Rieskamp, J., & Gonzalez, R. (2009). Computational models for the combination of advice and individual learning. Cognitive Science, 33(2), 206-242.\n",
    "\n",
    "2.2.2 Doll, B. B., Jacobs, W. J., Sanfey, A. G., & Frank, M. J. (2009). Instructional control of reinforcement learning: A behavioral and neurocomputational investigation. Brain Research, 1299, 74–94.\n",
    "\n",
    "2.2.3 Li, J., Delgado, M. R., & Phelps, E. A. (2011). How instructed knowledge modulates the neural systems of reward learning. Proceedings of the National Academy of Sciences, U.S.A., 108, 55–60. (Their <a href=http://www.pnas.org/lookup/suppl/doi:10.1073/pnas.1014938108/-/DCSupplemental/sapp.pdf>supplementary document</a> contains more details about their model.)"
   ]
  },
  {
   "cell_type": "code",
   "execution_count": 1,
   "metadata": {},
   "outputs": [],
   "source": [
    "### Write your analysis or codes here"
   ]
  }
 ],
 "metadata": {
  "kernelspec": {
   "display_name": "Python 3 (ipykernel)",
   "language": "python",
   "name": "python3"
  },
  "language_info": {
   "codemirror_mode": {
    "name": "ipython",
    "version": 3
   },
   "file_extension": ".py",
   "mimetype": "text/x-python",
   "name": "python",
   "nbconvert_exporter": "python",
   "pygments_lexer": "ipython3",
   "version": "3.9.12"
  }
 },
 "nbformat": 4,
 "nbformat_minor": 4
}
