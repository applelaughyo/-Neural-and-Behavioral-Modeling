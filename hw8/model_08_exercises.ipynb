{
 "cells": [
  {
   "cell_type": "markdown",
   "metadata": {},
   "source": [
    "# Neural & Behavioral Modeling - Week 8 (Exercises)\n",
    "張天瑋 B09705049"
   ]
  },
  {
   "cell_type": "code",
   "execution_count": 206,
   "metadata": {},
   "outputs": [],
   "source": [
    "%config IPCompleter.greedy=True \n",
    "%matplotlib inline\n",
    "from numpy import *\n",
    "from matplotlib.pyplot import *\n",
    "from IPython.display import *\n",
    "from sklearn.metrics.pairwise import cosine_similarity\n",
    "rcParams['figure.figsize'] = (4,6)"
   ]
  },
  {
   "cell_type": "markdown",
   "metadata": {},
   "source": [
    "## 1 InStar Learning (4 points)\n",
    "Try to replicate Fig.2 of <a href=https://arxiv.org/pdf/1612.03270.pdf>[1]</a> = Fig. 3A of <a href=https://sci-hub.se/10.1126/science.1212003>[2]</a>:\n",
    "\n",
    "[1] Huang, T. R. (2016). Hebbian plasticity for improving perceptual decisions. arXiv preprint arXiv:1612.03270.\n",
    "\n",
    "[2] Shibata, K., Watanabe, T., Sasaki, Y., & Kawato, M. (2011). Perceptual learning incepted by decoded fMRI neurofeedback without stimulus presentation. Science, 334(6061), 1413-1415."
   ]
  },
  {
   "cell_type": "code",
   "execution_count": 200,
   "metadata": {
    "tags": []
   },
   "outputs": [
    {
     "data": {
      "text/plain": [
       "[array([0.2196471 , 0.47977741, 0.71464569]),\n",
       " array([0.44360255, 0.21959386, 0.70869402]),\n",
       " array([0.25525667, 0.3170826 , 0.70461853]),\n",
       " array([0.21059031, 0.31476491, 0.74353134])]"
      ]
     },
     "execution_count": 200,
     "metadata": {},
     "output_type": "execute_result"
    }
   ],
   "source": [
    "#training\n",
    "noisy = array([0.8,0.6,0.5,0.4])\n",
    "finalW = []\n",
    "for n in noisy:\n",
    "    # print(\"n=\",n)\n",
    "    W=random.rand(3) # random initial weights\n",
    "    for i in range(10): # 10 trials \n",
    "        x=array((1-n)*array([0,0,1])+n*random.rand(3)) # same stimulus + noise\n",
    "        # print(\"x:\",x)\n",
    "        y=dot(W,x) # the only postsynaptic neuron\n",
    "        W=W+y*(x-W) # postsynaptically gated InStar \n",
    "        # print(W,y)\n",
    "    finalW.append(W)\n",
    "finalW"
   ]
  },
  {
   "cell_type": "code",
   "execution_count": 201,
   "metadata": {},
   "outputs": [
    {
     "data": {
      "text/plain": [
       "[41, 54, 87, 96]"
      ]
     },
     "execution_count": 201,
     "metadata": {},
     "output_type": "execute_result"
    }
   ],
   "source": [
    "#testing\n",
    "accuracy = []\n",
    "for k in range(len(noisy)):\n",
    "    correct = 0\n",
    "    for i in range(100):\n",
    "        W=finalW[k]\n",
    "        x0=array((1-noisy[k])*array([0,0,1])+noisy[k]*random.rand(3)) # same stimulus + noise\n",
    "        x1=array((1-noisy[k])*array([0,1,0])+noisy[k]*random.rand(3)) # same stimulus + noise\n",
    "        x2=array((1-noisy[k])*array([1,0,0])+noisy[k]*random.rand(3)) # same stimulus + noise\n",
    "        y0=dot(W,x0)#x1 = [0,0,1]\n",
    "        y1=dot(W,x1)#x2 = [0,1,0]\n",
    "        y2=dot(W,x2)#x3 = [1,0,0]\n",
    "        # print(\"y0:\",y0,\"y1:\",y1,\"y2:\",y2)\n",
    "        if y0 > y1 and y0 > y2:\n",
    "            correct+=1\n",
    "    accuracy.append(correct)\n",
    "accuracy"
   ]
  },
  {
   "cell_type": "code",
   "execution_count": 211,
   "metadata": {},
   "outputs": [
    {
     "name": "stdout",
     "output_type": "stream",
     "text": [
      "[0.25       0.66666667 1.         1.5       ]\n"
     ]
    },
    {
     "data": {
      "text/plain": [
       "[<matplotlib.lines.Line2D at 0x13b451250>]"
      ]
     },
     "execution_count": 211,
     "metadata": {},
     "output_type": "execute_result"
    },
    {
     "data": {
      "image/png": "[encoded data removed]",
      "text/plain": [
       "<Figure size 288x432 with 1 Axes>"
      ]
     },
     "metadata": {
      "needs_background": "light"
     },
     "output_type": "display_data"
    }
   ],
   "source": [
    "x = (1 - noisy) / noisy\n",
    "print(x)\n",
    "ylabel(\"Accuracy(%)\")\n",
    "xlabel(\"S/N ratio\")\n",
    "plot(x, accuracy,'o-',color = 'b')"
   ]
  },
  {
   "cell_type": "markdown",
   "metadata": {},
   "source": [
    "## 2 PyTorch (4 points)\n",
    "Read <a href=\"https://www.pytorchtutorial.com/pytorch-for-numpy-users/\">this tutorial</a> first and port the following Instar Learning from NumPy to PyTorch:"
   ]
  },
  {
   "cell_type": "code",
   "execution_count": 8,
   "metadata": {},
   "outputs": [
    {
     "name": "stdout",
     "output_type": "stream",
     "text": [
      "[0.36490153 0.5352851  0.50694818] 0.5520803268677825\n",
      "[0.23212107 0.41734972 0.5535899 ] 0.5012445899125249\n",
      "[0.16862752 0.36095485 0.57589325] 0.480570962355711\n",
      "[0.13632557 0.33226431 0.58723994] 0.4706851551798439\n",
      "[0.11941035 0.31724024 0.59318173] 0.4656558112558983\n",
      "[0.11042293 0.30925763 0.59633874] 0.4630221498772228\n",
      "[0.10561147 0.3049841  0.59802886] 0.4616228275438199\n",
      "[0.10302529 0.30268706 0.59893731] 0.46087369330442574\n",
      "[0.10163223 0.30144975 0.59942665] 0.4604710310443997\n",
      "[0.10088099 0.30078249 0.59969054] 0.460254134893731\n"
     ]
    }
   ],
   "source": [
    "# Instar learning:\n",
    "x=array([0.1,0.3,0.6])\n",
    "W=random.rand(3)\n",
    "for i in range(10): # trials \n",
    "    y=dot(W,x) \n",
    "    W+=y*(x-W) # postsynaptically gated InStar \n",
    "    print(W,y)"
   ]
  },
  {
   "cell_type": "code",
   "execution_count": 4,
   "metadata": {},
   "outputs": [
    {
     "name": "stdout",
     "output_type": "stream",
     "text": [
      "tensor([0.2066, 0.2890, 0.6777]) tensor(0.5923)\n",
      "tensor([0.1518, 0.2946, 0.6377]) tensor(0.5140)\n",
      "tensor([0.1266, 0.2972, 0.6194]) tensor(0.4862)\n",
      "tensor([0.1140, 0.2986, 0.6102]) tensor(0.4735)\n",
      "tensor([0.1075, 0.2992, 0.6054]) tensor(0.4671)\n",
      "tensor([0.1040, 0.2996, 0.6029]) tensor(0.4638)\n",
      "tensor([0.1022, 0.2998, 0.6016]) tensor(0.4620)\n",
      "tensor([0.1012, 0.2999, 0.6008]) tensor(0.4611)\n",
      "tensor([0.1006, 0.2999, 0.6005]) tensor(0.4606)\n",
      "tensor([0.1003, 0.3000, 0.6002]) tensor(0.4603)\n"
     ]
    }
   ],
   "source": [
    "### Write your PyTorch codes here\n",
    "import torch as t\n",
    "# Instar learning:\n",
    "x=t.tensor([0.1,0.3,0.6])\n",
    "W=t.rand(3)\n",
    "for i in range(10): # trials \n",
    "    y=t.dot(W,x) \n",
    "    W+=y*(x-W) # postsynaptically gated InStar \n",
    "    print(W,y)"
   ]
  },
  {
   "cell_type": "code",
   "execution_count": null,
   "metadata": {},
   "outputs": [],
   "source": []
  }
 ],
 "metadata": {
  "kernelspec": {
   "display_name": "Python 3 (ipykernel)",
   "language": "python",
   "name": "python3"
  },
  "language_info": {
   "codemirror_mode": {
    "name": "ipython",
    "version": 3
   },
   "file_extension": ".py",
   "mimetype": "text/x-python",
   "name": "python",
   "nbconvert_exporter": "python",
   "pygments_lexer": "ipython3",
   "version": "3.9.12"
  }
 },
 "nbformat": 4,
 "nbformat_minor": 4
}
