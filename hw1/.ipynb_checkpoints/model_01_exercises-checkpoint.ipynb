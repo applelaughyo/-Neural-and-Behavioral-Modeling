{
 "cells": [
  {
   "cell_type": "markdown",
   "metadata": {},
   "source": [
    "# Neural & Behavioral Modeling - Week 1 (Exercises)\n",
    "by 張天瑋 b09705049@gmail.com"
   ]
  },
  {
   "cell_type": "code",
   "execution_count": 1,
   "metadata": {},
   "outputs": [],
   "source": [
    "%config IPCompleter.greedy=True \n",
    "%matplotlib inline\n",
    "import numpy as np\n",
    "import matplotlib.pyplot as plt\n",
    "import sympy as sym\n",
    "from IPython.display import *"
   ]
  },
  {
   "cell_type": "markdown",
   "metadata": {},
   "source": [
    "## 1 Party Simulation (5 points)\n",
    "This is a model of a cocktail party. The men and women at the party form groups. A party-goer becomes uncomfortable and switches groups if their current group has too many members of the opposite sex."
   ]
  },
  {
   "cell_type": "markdown",
   "metadata": {},
   "source": [
    "### 1.1 Insert your codes to complete the simulation (2 points)"
   ]
  },
  {
   "cell_type": "code",
   "execution_count": 20,
   "metadata": {},
   "outputs": [
    {
     "data": {
      "image/png": "[encoded data removed]",
      "text/plain": [
       "<Figure size 432x288 with 1 Axes>"
      ]
     },
     "metadata": {
      "needs_background": "light"
     },
     "output_type": "display_data"
    }
   ],
   "source": [
    "# Model parameters:\n",
    "Ngroups=10\n",
    "Npeople=100\n",
    "Tolerance=0.25 # tolerable propotion of the opposite sex\n",
    "\n",
    "# Supporting functions:\n",
    "class Person:\n",
    "    def __init__(self, Ngroups):\n",
    "        self.sex = np.random.randint(2) # 0=woman; 1=man\n",
    "        self.Ngroups=Ngroups\n",
    "        self.group = np.random.randint(Ngroups) # staying in which group?\n",
    "        \n",
    "    def leave(self):\n",
    "        options=np.delete(np.arange(self.Ngroups),self.group) # except the current group\n",
    "        self.group = int(np.random.choice(options,1)) # choosing a new group\n",
    "    \n",
    "def party_stats(people): # calculate the number of men & women in each group\n",
    "    Npeople=len(people)    \n",
    "    sexes=[people[i].sex for i in range(Npeople)]\n",
    "    groups=[people[i].group for i in range(Npeople)]\n",
    "    counts=np.zeros((max(groups)+1,max(sexes)+1))\n",
    "    proportions=counts.copy()\n",
    "    for p in range(Npeople):\n",
    "        counts[groups[p],sexes[p]]+=1\n",
    "    men_plus_women=np.sum(counts,1) # number of men and women in each group\n",
    "    men_plus_women[men_plus_women==0]=np.inf # to avoid \"dividing by zeros later\n",
    "    proportions[:,0]=counts[:,0]/men_plus_women # proportion of women in each group\n",
    "    proportions[:,1]=counts[:,1]/men_plus_women # proportion of men in each group\n",
    "    return counts, proportions # size=group*sex\n",
    "\n",
    "def plot_party(counts):\n",
    "    x=np.arange(len(counts))+1 # number of groups\n",
    "    plt.clf() # clear previous figure\n",
    "    plt.bar(x, counts[:,0], color = 'r') # women\n",
    "    plt.bar(x, counts[:,1], color = 'b', bottom = counts[:,0]) # men on top of women in the plot\n",
    "    display(plt.gcf()); clear_output(wait=True) # to allow dynamic plots\n",
    "    \n",
    "# Initialization:\n",
    "people = [Person(Ngroups) for i in range(Npeople)] # assign each person to a group\n",
    "Nhappy=0 # Number of happy people\n",
    "iteration = 0\n",
    "# Simulation:\n",
    "while(Nhappy < Npeople): # Simulation stops when everyone is happy\n",
    "    iteration += 1\n",
    "    counts, proportions = party_stats(people)# size=group*sex    \n",
    "    # Plot results\n",
    "    plot_party(counts)\n",
    "        \n",
    "    Nhappy=0 # recounting after a new move\n",
    "    for i in range(Npeople):\n",
    "        if proportions[people[i].group, people[i].sex] < (1 - Tolerance):\n",
    "            people[i].leave()\n",
    "        else :\n",
    "            Nhappy += 1"
   ]
  },
  {
   "cell_type": "markdown",
   "metadata": {
    "collapsed": true
   },
   "source": [
    "### 1.2 Modify the three model parameters & discuss how each affects your simulations (2 points)"
   ]
  },
  {
   "cell_type": "code",
   "execution_count": 14,
   "metadata": {},
   "outputs": [],
   "source": [
    "def party(Ngroups, Npeople, Tolerance):\n",
    "    people = [Person(Ngroups) for i in range(Npeople)] # assign each person to a group\n",
    "    Nhappy = 0\n",
    "    iteration = 0\n",
    "    while(Nhappy < Npeople): # Simulation stops when everyone is happy\n",
    "        iteration += 1\n",
    "        counts, proportions = party_stats(people)# size=group*sex\n",
    "        \n",
    "        # Plot results\n",
    "        plot_party(counts)\n",
    "        \n",
    "        Nhappy=0 # recounting after a new move\n",
    "        for i in range(Npeople):\n",
    "            if proportions[people[i].group, people[i].sex] < (1 - Tolerance):\n",
    "                people[i].leave()\n",
    "            else :\n",
    "                Nhappy += 1\n",
    "    print('iteration:' , iteration)"
   ]
  },
  {
   "cell_type": "markdown",
   "metadata": {},
   "source": [
    "## Modify Ngroups"
   ]
  },
  {
   "cell_type": "code",
   "execution_count": 17,
   "metadata": {},
   "outputs": [
    {
     "name": "stdout",
     "output_type": "stream",
     "text": [
      "iteration: 20\n",
      "Ngroup = 5\n"
     ]
    },
    {
     "data": {
      "image/png": "[encoded data removed]",
      "text/plain": [
       "<Figure size 432x288 with 1 Axes>"
      ]
     },
     "metadata": {
      "needs_background": "light"
     },
     "output_type": "display_data"
    }
   ],
   "source": [
    "party(5, 100, 0.25)\n",
    "print('Ngroup = 5')"
   ]
  },
  {
   "cell_type": "code",
   "execution_count": 18,
   "metadata": {},
   "outputs": [
    {
     "name": "stdout",
     "output_type": "stream",
     "text": [
      "iteration: 12\n",
      "Ngroup = 10\n"
     ]
    },
    {
     "data": {
      "image/png": "[encoded data removed]",
      "text/plain": [
       "<Figure size 432x288 with 1 Axes>"
      ]
     },
     "metadata": {
      "needs_background": "light"
     },
     "output_type": "display_data"
    }
   ],
   "source": [
    "party(10, 100, 0.25)\n",
    "print('Ngroup = 10')"
   ]
  },
  {
   "cell_type": "code",
   "execution_count": 19,
   "metadata": {},
   "outputs": [
    {
     "name": "stdout",
     "output_type": "stream",
     "text": [
      "iteration: 7\n",
      "Ngroup = 50\n"
     ]
    },
    {
     "data": {
      "image/png": "[encoded data removed]",
      "text/plain": [
       "<Figure size 432x288 with 1 Axes>"
      ]
     },
     "metadata": {
      "needs_background": "light"
     },
     "output_type": "display_data"
    }
   ],
   "source": [
    "party(50, 100, 0.25)\n",
    "print('Ngroup = 50')"
   ]
  },
  {
   "cell_type": "markdown",
   "metadata": {},
   "source": [
    "As the plots show, we can conclude that convergence only happens when male and female are in the differenct group(Because Tolerance < 0.5). And as the group number growth,the simulation take less iteration to converge."
   ]
  },
  {
   "cell_type": "markdown",
   "metadata": {},
   "source": [
    "## Modify Npeople"
   ]
  },
  {
   "cell_type": "code",
   "execution_count": 21,
   "metadata": {},
   "outputs": [
    {
     "name": "stdout",
     "output_type": "stream",
     "text": [
      "iteration: 4\n",
      "Npeople = 10\n"
     ]
    },
    {
     "data": {
      "image/png": "[encoded data removed]",
      "text/plain": [
       "<Figure size 432x288 with 1 Axes>"
      ]
     },
     "metadata": {
      "needs_background": "light"
     },
     "output_type": "display_data"
    }
   ],
   "source": [
    "party(10, 10, 0.25)\n",
    "print('Npeople = 10')"
   ]
  },
  {
   "cell_type": "code",
   "execution_count": 23,
   "metadata": {},
   "outputs": [
    {
     "name": "stdout",
     "output_type": "stream",
     "text": [
      "iteration: 22\n",
      "Npeople = 100\n"
     ]
    },
    {
     "data": {
      "image/png": "[encoded data removed]",
      "text/plain": [
       "<Figure size 432x288 with 1 Axes>"
      ]
     },
     "metadata": {
      "needs_background": "light"
     },
     "output_type": "display_data"
    }
   ],
   "source": [
    "party(10, 100, 0.25)\n",
    "print('Npeople = 100')"
   ]
  },
  {
   "cell_type": "code",
   "execution_count": 25,
   "metadata": {},
   "outputs": [
    {
     "name": "stdout",
     "output_type": "stream",
     "text": [
      "iteration: 56\n",
      "Npeople = 300\n"
     ]
    },
    {
     "data": {
      "image/png": "[encoded data removed]",
      "text/plain": [
       "<Figure size 432x288 with 1 Axes>"
      ]
     },
     "metadata": {
      "needs_background": "light"
     },
     "output_type": "display_data"
    }
   ],
   "source": [
    "party(10, 300, 0.25)\n",
    "print('Npeople = 300')"
   ]
  },
  {
   "cell_type": "markdown",
   "metadata": {},
   "source": [
    "As the plots show, we can conclude that convergence only happens when male and female are in the differenct group(Because Tolerance < 0.5). And as the people number growth,the simulation take more iteration to converge."
   ]
  },
  {
   "cell_type": "markdown",
   "metadata": {},
   "source": [
    "## Modify Tolerance"
   ]
  },
  {
   "cell_type": "code",
   "execution_count": 26,
   "metadata": {},
   "outputs": [
    {
     "name": "stdout",
     "output_type": "stream",
     "text": [
      "iteration: 9\n",
      "Tolerance = 0.25\n"
     ]
    },
    {
     "data": {
      "image/png": "[encoded data removed]",
      "text/plain": [
       "<Figure size 432x288 with 1 Axes>"
      ]
     },
     "metadata": {
      "needs_background": "light"
     },
     "output_type": "display_data"
    }
   ],
   "source": [
    "party(10, 100, 0.25)\n",
    "print('Tolerance = 0.25')"
   ]
  },
  {
   "cell_type": "code",
   "execution_count": 38,
   "metadata": {},
   "outputs": [
    {
     "name": "stdout",
     "output_type": "stream",
     "text": [
      "iteration: 6\n",
      "Tolerance = 0.5\n"
     ]
    },
    {
     "data": {
      "image/png": "[encoded data removed]",
      "text/plain": [
       "<Figure size 432x288 with 1 Axes>"
      ]
     },
     "metadata": {
      "needs_background": "light"
     },
     "output_type": "display_data"
    }
   ],
   "source": [
    "party(10, 100, 0.5)\n",
    "print('Tolerance = 0.5')"
   ]
  },
  {
   "cell_type": "code",
   "execution_count": 33,
   "metadata": {
    "scrolled": true
   },
   "outputs": [
    {
     "name": "stdout",
     "output_type": "stream",
     "text": [
      "iteration: 2\n",
      "Tolerance = 0.75\n"
     ]
    },
    {
     "data": {
      "image/png": "[encoded data removed]",
      "text/plain": [
       "<Figure size 432x288 with 1 Axes>"
      ]
     },
     "metadata": {
      "needs_background": "light"
     },
     "output_type": "display_data"
    }
   ],
   "source": [
    "party(10, 100, 0.75)\n",
    "print('Tolerance = 0.75')"
   ]
  },
  {
   "cell_type": "markdown",
   "metadata": {},
   "source": [
    "As the plots show, we can infer that when Tolerance < 0.5, male and female are seperated in different groups. While when Tolerance >= 0.5, there might be male and female in the same group. And since they are more likely to accept opposite gender people in their groups, the simulation seems like take less time to converge."
   ]
  },
  {
   "cell_type": "markdown",
   "metadata": {},
   "source": [
    "### 1.3 Discuss why the simulaiton leads to group polarization (1 point)"
   ]
  },
  {
   "cell_type": "markdown",
   "metadata": {},
   "source": [
    "When Tolerance < 0.5 , the simulaiton leads to group polarization.\n",
    "If Tolerance < 0.5 , there are three case\n",
    "1. The man proportions is larger than the tolerance value => all women in that group will leave.\n",
    "2. The woman proportions is larger than the tolerance value => all men in that group will leave.\n",
    "3. Both sex proportions is larger than the tolerance value => all people in that group will leave.\n",
    "\n",
    "So after many iteration, there will only remain the group without any people or only one sex. "
   ]
  },
  {
   "cell_type": "markdown",
   "metadata": {},
   "source": [
    "## 2 Understand Shunting Equation (5 points)\n",
    "\n",
    "$\\frac{dy}{dt}=-Ay+(B-y)*E-(y-C)*I$"
   ]
  },
  {
   "cell_type": "markdown",
   "metadata": {},
   "source": [
    "### 2.1 Find its equilibrium by analytically solving $dy/dt=0$ (1 point)"
   ]
  },
  {
   "cell_type": "markdown",
   "metadata": {},
   "source": [
    "Write your answer here with [LaTex](https://www.sharelatex.com/learn/Mathematical_expressions) formula"
   ]
  },
  {
   "cell_type": "markdown",
   "metadata": {},
   "source": [
    "## $y(t) = \\frac {B\\times E+C\\times I}{A+E+I}$"
   ]
  },
  {
   "cell_type": "markdown",
   "metadata": {},
   "source": [
    "### 2.2 Use Euler integration to verify your answer in 2.1 with your own (A, B, C, E, I) constants (2 points)\n"
   ]
  },
  {
   "cell_type": "markdown",
   "metadata": {},
   "source": [
    "Euler Integration: $dy/dt=f(t) \\implies \\frac{y(t2)-y(t1)}{\\Delta t}=f(t) \\implies y(t2)=y(t1)+\\Delta t*f(t)$"
   ]
  },
  {
   "cell_type": "code",
   "execution_count": 39,
   "metadata": {},
   "outputs": [
    {
     "data": {
      "text/latex": [
       "$\\displaystyle y{\\left(t \\right)} = \\frac{B E}{A + E + I} + \\frac{C I}{A + E + I} + C_{1} e^{- t \\left(A + E + I\\right)}$"
      ],
      "text/plain": [
       "Eq(y(t), B*E/(A + E + I) + C*I/(A + E + I) + C1*exp(-t*(A + E + I)))"
      ]
     },
     "execution_count": 39,
     "metadata": {},
     "output_type": "execute_result"
    }
   ],
   "source": [
    "a,b,c,e,i,t = sym.symbols('A,B,C,E,I,t')\n",
    "y = sym.Function('y')(t)\n",
    "sym.dsolve(y.diff()+a*y-(b-y)*e+(y-c)*i) # solving dy/dt+Ay-(B-y)*E+(y-C)*I=0"
   ]
  },
  {
   "cell_type": "markdown",
   "metadata": {},
   "source": [
    "$Let\\ A = 1,B = 1, C = 1 , E = 1 , I = 1 ,C_1 = 1$"
   ]
  },
  {
   "cell_type": "code",
   "execution_count": 41,
   "metadata": {},
   "outputs": [
    {
     "data": {
      "image/png": "[encoded data removed]",
      "text/plain": [
       "<Figure size 432x288 with 1 Axes>"
      ]
     },
     "metadata": {
      "needs_background": "light"
     },
     "output_type": "display_data"
    }
   ],
   "source": [
    "# dy/dt = f(t) = -y + (1 - y) - (y - 1)=-3y + 2\n",
    "dt=0.05\n",
    "y=[5/3]# y(0) = 2/3 + 1\n",
    "t=np.arange(0,10,dt)\n",
    "for i in t:\n",
    "    y1=y[-1] # the last element\n",
    "    y2=y1+dt*(-3*y1 + 2) # Euler integration\n",
    "    y.append(y2)\n",
    "plt.plot(t,np.exp(-3*t)+ 2/3,'b.'); # true answer\n",
    "plt.plot(t,y[0:-1],'ro',markerfacecolor='None') # approximation\n",
    "plt.legend(['symbolic','numerical']);"
   ]
  },
  {
   "cell_type": "markdown",
   "metadata": {},
   "source": [
    "### 2.3 Combining math & if-then controls in numerical integrations (2 points)\n",
    "\n",
    "Use Euler integration to plot $dy/dt=-y(t)+E$ where\n",
    "$E=\\begin{cases}\n",
    "    1  &  \\text{if } t<5\\\\\n",
    "    0  &  \\text{if } t>5\n",
    "   \\end{cases}$\n",
    "for t=[0,10] & y(t=0)=0.\n",
    "\n",
    "This is an example of time-varying rather than constant excitation."
   ]
  },
  {
   "cell_type": "code",
   "execution_count": 42,
   "metadata": {},
   "outputs": [
    {
     "data": {
      "text/plain": [
       "[<matplotlib.lines.Line2D at 0x15ec6c5e0>]"
      ]
     },
     "execution_count": 42,
     "metadata": {},
     "output_type": "execute_result"
    },
    {
     "data": {
      "image/png": "[encoded data removed]",
      "text/plain": [
       "<Figure size 432x288 with 1 Axes>"
      ]
     },
     "metadata": {
      "needs_background": "light"
     },
     "output_type": "display_data"
    }
   ],
   "source": [
    "dt=0.05\n",
    "y=[0] # y(0) = 0\n",
    "t=np.arange(0,10,dt)\n",
    "for i in t:\n",
    "    y1=y[-1] # the last element\n",
    "    if i <= 5 :\n",
    "        y2=y1+dt*(-y1 + 1) # Euler integration\n",
    "    else :\n",
    "        y2=y1+dt*(-y1) # Euler integration\n",
    "    y.append(y2)\n",
    "plt.plot(t,y[0:-1],'ro',markerfacecolor='None') # approximation"
   ]
  },
  {
   "cell_type": "markdown",
   "metadata": {},
   "source": [
    "## Please submit the HTML version of your notebook to NTU COOL by 9/12(Mon)!"
   ]
  }
 ],
 "metadata": {
  "kernelspec": {
   "display_name": "Python 3 (ipykernel)",
   "language": "python",
   "name": "python3"
  },
  "language_info": {
   "codemirror_mode": {
    "name": "ipython",
    "version": 3
   },
   "file_extension": ".py",
   "mimetype": "text/x-python",
   "name": "python",
   "nbconvert_exporter": "python",
   "pygments_lexer": "ipython3",
   "version": "3.9.12"
  }
 },
 "nbformat": 4,
 "nbformat_minor": 2
}
